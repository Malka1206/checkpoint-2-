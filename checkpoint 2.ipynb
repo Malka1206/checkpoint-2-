{
 "cells": [
  {
   "cell_type": "code",
   "execution_count": 5,
   "id": "24386053",
   "metadata": {},
   "outputs": [
    {
     "name": "stdout",
     "output_type": "stream",
     "text": [
      "write your first name:malek\n",
      "write your last name:kahia\n",
      "aihak kelam\n"
     ]
    }
   ],
   "source": [
    "#question1\n",
    "first_name=(input(\"write your first name:\"))\n",
    "last_name=(input(\"write your last name:\"))\n",
    "s1=first_name+\" \"+last_name\n",
    "s2=\"\"\n",
    "for i in range (-1,-1-len(s1),-1):\n",
    "    s2=s2+s1[i]\n",
    "print (s2)"
   ]
  },
  {
   "cell_type": "code",
   "execution_count": 8,
   "id": "ddd88d6e",
   "metadata": {},
   "outputs": [
    {
     "name": "stdout",
     "output_type": "stream",
     "text": [
      "write a value of n:5\n",
      "615\n"
     ]
    }
   ],
   "source": [
    "#question2\n",
    "n=int(input(\"write a value of n:\"))\n",
    "n1=n*11;n2=n*111\n",
    "s=n+n1+n2\n",
    "print(s)"
   ]
  },
  {
   "cell_type": "code",
   "execution_count": 11,
   "id": "4dc10abf",
   "metadata": {},
   "outputs": [
    {
     "name": "stdout",
     "output_type": "stream",
     "text": [
      "write a value of n:22\n",
      "22 is even\n"
     ]
    }
   ],
   "source": [
    "#question3\n",
    "n=int(input(\"write a value of n:\"))\n",
    "if n%2==0 :\n",
    "    print(n,\"is even\")\n",
    "else:\n",
    "    print(n,\"is odd\")"
   ]
  },
  {
   "cell_type": "code",
   "execution_count": 18,
   "id": "f676e19a",
   "metadata": {},
   "outputs": [
    {
     "name": "stdout",
     "output_type": "stream",
     "text": [
      " 2002 2009 2016 2023 2037 2044 2051 2058 2072 2079 2086 2093 2107 2114 2121 2128 2142 2149 2156 2163 2177 2184 2191 2198 2212 2219 2226 2233 2247 2254 2261 2268 2282 2289 2296 2303 2317 2324 2331 2338 2352 2359 2366 2373 2387 2394 2401 2408 2422 2429 2436 2443 2457 2464 2471 2478 2492 2499 2506 2513 2527 2534 2541 2548 2562 2569 2576 2583 2597 2604 2611 2618 2632 2639 2646 2653 2667 2674 2681 2688 2702 2709 2716 2723 2737 2744 2751 2758 2772 2779 2786 2793 2807 2814 2821 2828 2842 2849 2856 2863 2877 2884 2891 2898 2912 2919 2926 2933 2947 2954 2961 2968 2982 2989 2996 3003 3017 3024 3031 3038 3052 3059 3066 3073 3087 3094 3101 3108 3122 3129 3136 3143 3157 3164 3171 3178 3192 3199\n"
     ]
    }
   ],
   "source": [
    "#question4\n",
    "s=\"\"\n",
    "\n",
    "for i in range(2000,3200):\n",
    "    if i%7==0 and not(i%5==0):\n",
    "        s=s+\" \"+str(i)\n",
    "print (s)"
   ]
  },
  {
   "cell_type": "code",
   "execution_count": 24,
   "id": "ec533605",
   "metadata": {},
   "outputs": [
    {
     "name": "stdout",
     "output_type": "stream",
     "text": [
      "write a number: 8\n",
      "40320\n"
     ]
    }
   ],
   "source": [
    "#question5\n",
    "n=int(input(\"write a number: \"))\n",
    "s=1\n",
    "for i in range (n,1,-1):\n",
    "    s=s*i\n",
    "print(s)"
   ]
  },
  {
   "cell_type": "code",
   "execution_count": 25,
   "id": "5212f624",
   "metadata": {},
   "outputs": [
    {
     "name": "stdout",
     "output_type": "stream",
     "text": [
      "write a string :hello team\n",
      "hlota\n"
     ]
    }
   ],
   "source": [
    "#question6\n",
    "s=str(input(\"write a string :\"))\n",
    "s1=\"\"\n",
    "for i in range (len(s)):\n",
    "    if i%2==0 :\n",
    "        s1=s1 + s[i]\n",
    "print (s1)"
   ]
  },
  {
   "cell_type": "code",
   "execution_count": 30,
   "id": "84a9b5b3",
   "metadata": {},
   "outputs": [
    {
     "name": "stdout",
     "output_type": "stream",
     "text": [
      "insert the price of your product:100\n",
      "the price of your product is less than 200 you pay : 90.0\n"
     ]
    }
   ],
   "source": [
    "#question7\n",
    "p=float(input(\"insert the price of your product:\"))\n",
    "if p>=500 :\n",
    "    s=(p*0.5)\n",
    "    print(\"the price of your product is above or equal to 500 you pay :\",s)\n",
    "elif 500>p>=200 :\n",
    "    s=(p*(1-0.3))\n",
    "    print(\"the price of your product is between 500 or 200 (inclusive) you pay :\",s)\n",
    "else :\n",
    "    s=(p*(1-0.1))\n",
    "    print(\"the price of your product is less than 200 you pay :\",s)\n"
   ]
  }
 ],
 "metadata": {
  "kernelspec": {
   "display_name": "Python 3",
   "language": "python",
   "name": "python3"
  },
  "language_info": {
   "codemirror_mode": {
    "name": "ipython",
    "version": 3
   },
   "file_extension": ".py",
   "mimetype": "text/x-python",
   "name": "python",
   "nbconvert_exporter": "python",
   "pygments_lexer": "ipython3",
   "version": "3.8.8"
  }
 },
 "nbformat": 4,
 "nbformat_minor": 5
}
